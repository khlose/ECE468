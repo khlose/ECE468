{
  "nbformat": 4,
  "nbformat_minor": 0,
  "metadata": {
    "colab": {
      "name": "classification_ch3.ipynb",
      "version": "0.3.2",
      "provenance": [],
      "include_colab_link": true
    },
    "kernelspec": {
      "name": "python3",
      "display_name": "Python 3"
    }
  },
  "cells": [
    {
      "cell_type": "markdown",
      "metadata": {
        "id": "view-in-github",
        "colab_type": "text"
      },
      "source": [
        "<a href=\"https://colab.research.google.com/github/khlose/ECE468/blob/master/classification_ch3.ipynb\" target=\"_parent\"><img src=\"https://colab.research.google.com/assets/colab-badge.svg\" alt=\"Open In Colab\"/></a>"
      ]
    },
    {
      "cell_type": "markdown",
      "metadata": {
        "id": "5o4MSA_njRmx",
        "colab_type": "text"
      },
      "source": [
        "# LOAD MNIST\n"
      ]
    },
    {
      "cell_type": "code",
      "metadata": {
        "id": "3l6svwa-iUlD",
        "colab_type": "code",
        "colab": {
          "base_uri": "https://localhost:8080/",
          "height": 34
        },
        "outputId": "736c3a8e-f9a0-4354-ad40-eab1f0089383"
      },
      "source": [
        "from sklearn.datasets import fetch_openml\n",
        "\n",
        "mnist = fetch_openml(\"mnist_784\")\n"
      ],
      "execution_count": 8,
      "outputs": [
        {
          "output_type": "execute_result",
          "data": {
            "text/plain": [
              "(70000,)"
            ]
          },
          "metadata": {
            "tags": []
          },
          "execution_count": 8
        }
      ]
    },
    {
      "cell_type": "markdown",
      "metadata": {
        "id": "HTCSUzsTjP40",
        "colab_type": "text"
      },
      "source": [
        "# Exploring data"
      ]
    },
    {
      "cell_type": "code",
      "metadata": {
        "id": "WCJ3TF3_mCnr",
        "colab_type": "code",
        "colab": {
          "base_uri": "https://localhost:8080/",
          "height": 34
        },
        "outputId": "522df7c2-d565-4c77-a2bf-e2f4ec86cce1"
      },
      "source": [
        "\n",
        "X,y = mnist['data'],mnist['target']\n",
        "\n",
        "print(\"X:\" , X.shape , \" Y: \" , y.shape)"
      ],
      "execution_count": 11,
      "outputs": [
        {
          "output_type": "stream",
          "text": [
            "X: (70000, 784)  Y:  (70000,)\n"
          ],
          "name": "stdout"
        }
      ]
    },
    {
      "cell_type": "code",
      "metadata": {
        "id": "Zk5p25mDmWlp",
        "colab_type": "code",
        "colab": {
          "base_uri": "https://localhost:8080/",
          "height": 282
        },
        "outputId": "58c695a6-5e83-40b1-98df-3140be7ed765"
      },
      "source": [
        "#Print out number\n",
        "%matplotlib inline\n",
        "\n",
        "import matplotlib\n",
        "import matplotlib.pyplot as plt\n",
        "\n",
        "some_digit = X[52000]\n",
        "some_digit_img = some_digit.reshape(28,28)\n",
        "\n",
        "plt.imshow(some_digit_img, cmap = matplotlib.cm.binary, interpolation=\"nearest\")\n",
        "plt.axis(\"off\")\n",
        "plt.show()\n",
        "\n",
        "print(\"Index 5200 is a hand-written of number: \", y[52000])"
      ],
      "execution_count": 15,
      "outputs": [
        {
          "output_type": "display_data",
          "data": {
            "image/png": "[encoded data removed]",
            "text/plain": [
              "<Figure size 432x288 with 1 Axes>"
            ]
          },
          "metadata": {
            "tags": []
          }
        },
        {
          "output_type": "stream",
          "text": [
            "Index 5200 is a hand-written of number:  6\n"
          ],
          "name": "stdout"
        }
      ]
    },
    {
      "cell_type": "markdown",
      "metadata": {
        "id": "TUvOyx0InCki",
        "colab_type": "text"
      },
      "source": [
        "#Splitting Data\n",
        "(Mnist data has already bee splitted into train and test in 60K- 10K ratio)"
      ]
    },
    {
      "cell_type": "code",
      "metadata": {
        "id": "oy881LIOnEek",
        "colab_type": "code",
        "colab": {}
      },
      "source": [
        "X_train, X_test, y_train,y_test = X[:60000],X[60000:],y[:60000],y[60000:]\n",
        "\n",
        "#shuffle as well (ensuring that cross validation fold will be even across all folds)\n",
        "\n",
        "import numpy as np\n",
        "\n",
        "shuffle_index = np.random.permutation(60000)\n",
        "\n",
        "X_train,y_train = X_train[shuffle_index],y_train[shuffle_index]"
      ],
      "execution_count": 0,
      "outputs": []
    },
    {
      "cell_type": "markdown",
      "metadata": {
        "id": "XFkvAzrCpG9x",
        "colab_type": "text"
      },
      "source": [
        "#Simple binary classifier\n"
      ]
    },
    {
      "cell_type": "code",
      "metadata": {
        "id": "Rm3jkj68pJA8",
        "colab_type": "code",
        "colab": {}
      },
      "source": [
        ""
      ],
      "execution_count": 0,
      "outputs": []
    }
  ]
}